{
 "cells": [
  {
   "cell_type": "markdown",
   "id": "34e7a026",
   "metadata": {},
   "source": [
    "# Data Modelling"
   ]
  },
  {
   "cell_type": "code",
   "execution_count": 1,
   "id": "da09c50b",
   "metadata": {},
   "outputs": [],
   "source": [
    "from pyspark.sql import SparkSession, functions as F\n",
    "\n",
    "import findspark\n",
    "import pandas as pd\n",
    "\n",
    "findspark.init(\"C:\\Program Files\\Spark\\spark-3.3.1-bin-hadoop3\")\n",
    "\n",
    "pd.set_option(\"display.max_columns\", None)\n",
    "pd.set_option(\"display.max_colwidth\", None)"
   ]
  },
  {
   "cell_type": "markdown",
   "id": "a24f7096",
   "metadata": {},
   "source": [
    "Imported necessary libraries."
   ]
  },
  {
   "cell_type": "markdown",
   "id": "96119344",
   "metadata": {},
   "source": [
    "## Build Spark Session"
   ]
  },
  {
   "cell_type": "code",
   "execution_count": 2,
   "id": "bfcc9159",
   "metadata": {},
   "outputs": [],
   "source": [
    "spark = (SparkSession.builder\n",
    "            .appName(\"Spark-Cassandra-With-Catalog\")\n",
    "            .master(\"local[2]\")\n",
    "            .config(\"spark.driver.memory\",\"2048m\")\n",
    "            .config(\"spark.sql.shuffle.partitions\", 4)\n",
    "            .config(\"spark.serializer\", \"org.apache.spark.serializer.KryoSerializer\")\n",
    "            .config(\"spark.jars.packages\", \"com.datastax.spark:spark-cassandra-connector_2.12:3.3.0\") \n",
    "            .config(\"spark.sql.extensions\",\"com.datastax.spark.connector.CassandraSparkExtensions\")\n",
    "            .config(\"spark.sql.catalog.docker3nodescluster\", \n",
    "                    \"com.datastax.spark.connector.datasource.CassandraCatalog\")\n",
    "            .config(\"spark.sql.catalog.docker3nodescluster.spark.cassandra.connection.host\", \n",
    "                    \"127.0.0.1\")\n",
    "            .getOrCreate())"
   ]
  },
  {
   "cell_type": "markdown",
   "id": "3f474f74",
   "metadata": {},
   "source": [
    "## Read CSV File"
   ]
  },
  {
   "cell_type": "code",
   "execution_count": 3,
   "id": "4e6e8dc3",
   "metadata": {},
   "outputs": [],
   "source": [
    "csv_path = \"file:///Users/talha/OneDrive/Masaüstü/Talha Nebi Kumru/Data Enginnering/Miuul/NOSQL/Data_Modelling_Apache_Cassandra/datasets/iyzico_data-2.csv\"\n",
    "df = (spark.read.format(\"csv\")\n",
    "          .option(\"header\", True)\n",
    "          .option(\"sep\", \",\")\n",
    "          .option(\"inferSchema\", True)\n",
    "          .option(\"timestampFormat\", \"yyyy-MM-dd HH:mm:ss\")\n",
    "          .load(csv_path))"
   ]
  },
  {
   "cell_type": "code",
   "execution_count": 4,
   "id": "5c20f6a9",
   "metadata": {},
   "outputs": [
    {
     "data": {
      "text/plain": [
       "[('iyzico_data.csv\\x00\\x00\\x00\\x00\\x00\\x00\\x00\\x00\\x00\\x00\\x00\\x00\\x00\\x00\\x00\\x00\\x00\\x00\\x00\\x00\\x00\\x00\\x00\\x00\\x00\\x00\\x00\\x00\\x00\\x00\\x00\\x00\\x00\\x00\\x00\\x00\\x00\\x00\\x00\\x00\\x00\\x00\\x00\\x00\\x00\\x00\\x00\\x00\\x00\\x00\\x00\\x00\\x00\\x00\\x00\\x00\\x00\\x00\\x00\\x00\\x00\\x00\\x00\\x00\\x00\\x00\\x00\\x00\\x00\\x00\\x00\\x00\\x00\\x00\\x00\\x00\\x00\\x00\\x00\\x00\\x00\\x00\\x00\\x00\\x000000664\\x000001750\\x000001750\\x0004613461137\\x0014176564341\\x00013155\\x00 0\\x00\\x00\\x00\\x00\\x00\\x00\\x00\\x00\\x00\\x00\\x00\\x00\\x00\\x00\\x00\\x00\\x00\\x00\\x00\\x00\\x00\\x00\\x00\\x00\\x00\\x00\\x00\\x00\\x00\\x00\\x00\\x00\\x00\\x00\\x00\\x00\\x00\\x00\\x00\\x00\\x00\\x00\\x00\\x00\\x00\\x00\\x00\\x00\\x00\\x00\\x00\\x00\\x00\\x00\\x00\\x00\\x00\\x00\\x00\\x00\\x00\\x00\\x00\\x00\\x00\\x00\\x00\\x00\\x00\\x00\\x00\\x00\\x00\\x00\\x00\\x00\\x00\\x00\\x00\\x00\\x00\\x00\\x00\\x00\\x00\\x00\\x00\\x00\\x00\\x00\\x00\\x00\\x00\\x00\\x00\\x00\\x00\\x00\\x00\\x00ustar  \\x00train\\x00\\x00\\x00\\x00\\x00\\x00\\x00\\x00\\x00\\x00\\x00\\x00\\x00\\x00\\x00\\x00\\x00\\x00\\x00\\x00\\x00\\x00\\x00\\x00\\x00\\x00\\x00train\\x00\\x00\\x00\\x00\\x00\\x00\\x00\\x00\\x00\\x00\\x00\\x00\\x00\\x00\\x00\\x00\\x00\\x00\\x00\\x00\\x00\\x00\\x00\\x00\\x00\\x00\\x00\\x00\\x00\\x00\\x00\\x00\\x00\\x00\\x00\\x00\\x00\\x00\\x00\\x00\\x00\\x00\\x00\\x00\\x00\\x00\\x00\\x00\\x00\\x00\\x00\\x00\\x00\\x00\\x00\\x00\\x00\\x00\\x00\\x00\\x00\\x00\\x00\\x00\\x00\\x00\\x00\\x00\\x00\\x00\\x00\\x00\\x00\\x00\\x00\\x00\\x00\\x00\\x00\\x00\\x00\\x00\\x00\\x00\\x00\\x00\\x00\\x00\\x00\\x00\\x00\\x00\\x00\\x00\\x00\\x00\\x00\\x00\\x00\\x00\\x00\\x00\\x00\\x00\\x00\\x00\\x00\\x00\\x00\\x00\\x00\\x00\\x00\\x00\\x00\\x00\\x00\\x00\\x00\\x00\\x00\\x00\\x00\\x00\\x00\\x00\\x00\\x00\\x00\\x00\\x00\\x00\\x00\\x00\\x00\\x00\\x00\\x00\\x00\\x00\\x00\\x00\\x00\\x00\\x00\\x00\\x00\\x00\\x00\\x00\\x00\\x00\\x00\\x00\\x00\\x00\\x00\\x00\\x00\\x00\\x00\\x00\\x00\\x00\\x00\\x00\\x00\\x00\\x00\\x00\\x00\\x00\\x00\\x00\\x00\\x00\\x00\\x00\\x00\\x00\\x00\\x00\\x00\\x00\\x00\\x00\\x00\\x00\\x00\\x00\\x00\\x00\\x00\\x00\\x00\\x00\\x00\\x00\\x00\\x00\\x00\\x00\\x00\\x00\\x00\\x00\\x00\\x00\\x00\\x00transaction_date',\n",
       "  'string'),\n",
       " ('merchant_id', 'int'),\n",
       " ('category', 'string'),\n",
       " ('total_paid_price', 'double')]"
      ]
     },
     "execution_count": 4,
     "metadata": {},
     "output_type": "execute_result"
    }
   ],
   "source": [
    "df.dtypes"
   ]
  },
  {
   "cell_type": "code",
   "execution_count": 5,
   "id": "1e593e3e",
   "metadata": {},
   "outputs": [],
   "source": [
    "df = df.withColumnRenamed(df.dtypes[0][0], \"transaction_date\")"
   ]
  },
  {
   "cell_type": "code",
   "execution_count": 6,
   "id": "d3195962",
   "metadata": {},
   "outputs": [
    {
     "name": "stdout",
     "output_type": "stream",
     "text": [
      "+--------------------+-----------+--------------------+----------------+\n",
      "|    transaction_date|merchant_id|            category|total_paid_price|\n",
      "+--------------------+-----------+--------------------+----------------+\n",
      "|2018-01-01 00:00:...|     124381|Gündelik Eşya Mağ...|         410.112|\n",
      "|2018-01-01 00:01:...|     124381|Gündelik Eşya Mağ...|          485.91|\n",
      "|2018-01-01 00:02:...|     124381|Gündelik Eşya Mağ...|           66.42|\n",
      "|2018-01-01 00:04:...|     124381|Gündelik Eşya Mağ...|          225.09|\n",
      "|2018-01-01 00:04:...|      46774|Emlak Ofisleri ve...|          479.34|\n",
      "+--------------------+-----------+--------------------+----------------+\n",
      "only showing top 5 rows\n",
      "\n"
     ]
    }
   ],
   "source": [
    "df.show(5)"
   ]
  },
  {
   "cell_type": "code",
   "execution_count": 7,
   "id": "adf073db",
   "metadata": {},
   "outputs": [
    {
     "data": {
      "text/plain": [
       "8391254"
      ]
     },
     "execution_count": 7,
     "metadata": {},
     "output_type": "execute_result"
    }
   ],
   "source": [
    "df.count()"
   ]
  },
  {
   "cell_type": "code",
   "execution_count": 8,
   "id": "ea2f1af2",
   "metadata": {},
   "outputs": [
    {
     "data": {
      "text/plain": [
       "'3.3.1'"
      ]
     },
     "execution_count": 8,
     "metadata": {},
     "output_type": "execute_result"
    }
   ],
   "source": [
    "spark.version"
   ]
  },
  {
   "cell_type": "code",
   "execution_count": 9,
   "id": "cceee5df",
   "metadata": {},
   "outputs": [
    {
     "data": {
      "text/plain": [
       "[('transaction_date', 'string'),\n",
       " ('merchant_id', 'int'),\n",
       " ('category', 'string'),\n",
       " ('total_paid_price', 'double')]"
      ]
     },
     "execution_count": 9,
     "metadata": {},
     "output_type": "execute_result"
    }
   ],
   "source": [
    "df.dtypes"
   ]
  },
  {
   "cell_type": "code",
   "execution_count": 49,
   "id": "18695d2c",
   "metadata": {},
   "outputs": [],
   "source": [
    "df = df.withColumn(\"transaction_date\", F.to_timestamp(\"transaction_date\"))"
   ]
  },
  {
   "cell_type": "markdown",
   "id": "12c726cc",
   "metadata": {},
   "source": [
    "## Creating Cassandra Keyspace"
   ]
  },
  {
   "cell_type": "code",
   "execution_count": 10,
   "id": "8570f588",
   "metadata": {},
   "outputs": [],
   "source": [
    "spark.conf.set(\"spark.cassandra.output.consistency.level\", \"LOCAL_ONE\")"
   ]
  },
  {
   "cell_type": "code",
   "execution_count": 11,
   "id": "f68d2815",
   "metadata": {},
   "outputs": [
    {
     "name": "stdout",
     "output_type": "stream",
     "text": [
      "++\n",
      "||\n",
      "++\n",
      "++\n",
      "\n"
     ]
    }
   ],
   "source": [
    "spark.sql(\"\"\" \n",
    "    CREATE DATABASE IF NOT EXISTS docker3nodescluster.iyzico \\\n",
    "    WITH DBPROPERTIES (class='SimpleStrategy', replication_factor='3')\n",
    "\"\"\").show()"
   ]
  },
  {
   "cell_type": "markdown",
   "id": "592d0056",
   "metadata": {},
   "source": [
    "!docker exec -it cas1 bash<br>\n",
    "!cqlsh<br>\n",
    "- iyzico              \n",
    "- mykeyspace  \n",
    "- retail"
   ]
  },
  {
   "cell_type": "markdown",
   "id": "01e63b0f",
   "metadata": {},
   "source": [
    "## Control Duplicates Data"
   ]
  },
  {
   "cell_type": "code",
   "execution_count": 12,
   "id": "c7ea778f",
   "metadata": {},
   "outputs": [],
   "source": [
    "duplicates = df.groupBy('transaction_date', 'merchant_id', 'total_paid_price').count().alias('count') \\\n",
    "    .filter('count > 1')"
   ]
  },
  {
   "cell_type": "code",
   "execution_count": 13,
   "id": "0622336e",
   "metadata": {},
   "outputs": [
    {
     "name": "stdout",
     "output_type": "stream",
     "text": [
      "+--------------------+-----------+----------------+-----+\n",
      "|    transaction_date|merchant_id|total_paid_price|count|\n",
      "+--------------------+-----------+----------------+-----+\n",
      "|2018-01-02 17:57:...|        535|            36.0|    2|\n",
      "|2018-01-03 09:42:...|      86302|           0.504|    2|\n",
      "|2018-01-03 22:00:...|      42616|          143.91|    2|\n",
      "|2018-01-03 22:09:...|      42616|           71.91|    2|\n",
      "|2018-01-03 22:20:...|      42616|          179.82|    2|\n",
      "|2018-01-03 22:23:...|      42616|           71.91|    2|\n",
      "|2018-01-03 22:27:...|      42616|           71.91|    2|\n",
      "|2018-01-03 22:33:...|      42616|           71.91|    2|\n",
      "|2018-01-03 22:35:...|      42616|           46.71|    2|\n",
      "|2018-01-03 22:37:...|      42616|           53.91|    2|\n",
      "|2018-01-03 22:50:...|      42616|           71.91|    2|\n",
      "|2018-01-03 22:51:...|      42616|           71.91|    3|\n",
      "|2018-01-03 22:55:...|      42616|          107.91|    3|\n",
      "|2018-01-03 22:56:...|      42616|           71.91|    2|\n",
      "|2018-01-03 23:07:...|      42616|          143.91|    2|\n",
      "|2018-01-03 23:15:...|      42616|          143.91|    2|\n",
      "|2018-01-03 23:20:...|      42616|          107.91|    2|\n",
      "|2018-01-03 23:33:...|      42616|          107.91|    2|\n",
      "|2018-01-03 23:33:...|      42616|           71.91|    2|\n",
      "|2018-01-03 23:35:...|      42616|          161.91|    2|\n",
      "+--------------------+-----------+----------------+-----+\n",
      "only showing top 20 rows\n",
      "\n"
     ]
    }
   ],
   "source": [
    "duplicates.show()"
   ]
  },
  {
   "cell_type": "code",
   "execution_count": 14,
   "id": "5424fdd4",
   "metadata": {},
   "outputs": [
    {
     "data": {
      "text/plain": [
       "15766"
      ]
     },
     "execution_count": 14,
     "metadata": {},
     "output_type": "execute_result"
    }
   ],
   "source": [
    "duplicates.count()"
   ]
  },
  {
   "cell_type": "code",
   "execution_count": 15,
   "id": "bac4752c",
   "metadata": {},
   "outputs": [],
   "source": [
    "df = df.distinct()"
   ]
  },
  {
   "cell_type": "code",
   "execution_count": 16,
   "id": "09981416",
   "metadata": {},
   "outputs": [
    {
     "data": {
      "text/plain": [
       "8374318"
      ]
     },
     "execution_count": 16,
     "metadata": {},
     "output_type": "execute_result"
    }
   ],
   "source": [
    "df.count()"
   ]
  },
  {
   "cell_type": "code",
   "execution_count": 17,
   "id": "37387617",
   "metadata": {},
   "outputs": [],
   "source": [
    "duplicates = df.groupBy('transaction_date', 'merchant_id', 'total_paid_price').count().alias('count') \\\n",
    "    .filter('count > 1')"
   ]
  },
  {
   "cell_type": "code",
   "execution_count": 18,
   "id": "0807ae00",
   "metadata": {},
   "outputs": [
    {
     "name": "stdout",
     "output_type": "stream",
     "text": [
      "+----------------+-----------+----------------+-----+\n",
      "|transaction_date|merchant_id|total_paid_price|count|\n",
      "+----------------+-----------+----------------+-----+\n",
      "+----------------+-----------+----------------+-----+\n",
      "\n"
     ]
    }
   ],
   "source": [
    "duplicates.show()"
   ]
  },
  {
   "cell_type": "markdown",
   "id": "88abbd1a",
   "metadata": {},
   "source": [
    "## EDA Operations with Spark SQL"
   ]
  },
  {
   "cell_type": "code",
   "execution_count": 19,
   "id": "e562e1ba",
   "metadata": {},
   "outputs": [],
   "source": [
    "df.createOrReplaceTempView(\"REVIEW\")"
   ]
  },
  {
   "cell_type": "markdown",
   "id": "04c77172",
   "metadata": {},
   "source": [
    "Creating view table."
   ]
  },
  {
   "cell_type": "markdown",
   "id": "db80cb8a",
   "metadata": {},
   "source": [
    "### NUNIQUE MERCHANT"
   ]
  },
  {
   "cell_type": "code",
   "execution_count": 20,
   "id": "be9a4a81",
   "metadata": {},
   "outputs": [
    {
     "name": "stdout",
     "output_type": "stream",
     "text": [
      "+---------------------+\n",
      "|COUNT_UNIQUE_MERCHANT|\n",
      "+---------------------+\n",
      "|                    7|\n",
      "+---------------------+\n",
      "\n"
     ]
    }
   ],
   "source": [
    "spark.sql(\"SELECT COUNT(DISTINCT(merchant_id)) AS COUNT_UNIQUE_MERCHANT  FROM REVIEW\").show()"
   ]
  },
  {
   "cell_type": "markdown",
   "id": "22d78d50",
   "metadata": {},
   "source": [
    "### COUNT MERCHANT TRANSACTION"
   ]
  },
  {
   "cell_type": "code",
   "execution_count": 21,
   "id": "04819004",
   "metadata": {},
   "outputs": [
    {
     "name": "stdout",
     "output_type": "stream",
     "text": [
      "+-----------+-------+\n",
      "|merchant_id|  COUNT|\n",
      "+-----------+-------+\n",
      "|        535|1298529|\n",
      "|      42616|1119318|\n",
      "|     124381|1933755|\n",
      "|      46774|1598586|\n",
      "|     129316| 439667|\n",
      "|      86302| 838645|\n",
      "|      57192|1145818|\n",
      "+-----------+-------+\n",
      "\n"
     ]
    }
   ],
   "source": [
    "spark.sql(\"SELECT merchant_id, COUNT(merchant_id) AS COUNT FROM REVIEW \\\n",
    "        GROUP BY merchant_id\").show()"
   ]
  },
  {
   "cell_type": "markdown",
   "id": "f335cab8",
   "metadata": {},
   "source": [
    "### NUNIQUE CATEGORY"
   ]
  },
  {
   "cell_type": "code",
   "execution_count": 22,
   "id": "9ede8bc4",
   "metadata": {},
   "outputs": [
    {
     "name": "stdout",
     "output_type": "stream",
     "text": [
      "+---------------------+\n",
      "|COUNT_UNIQUE_CATEGORY|\n",
      "+---------------------+\n",
      "|                    7|\n",
      "+---------------------+\n",
      "\n"
     ]
    }
   ],
   "source": [
    "spark.sql(\"SELECT COUNT(DISTINCT(category)) AS COUNT_UNIQUE_CATEGORY FROM REVIEW\").show()"
   ]
  },
  {
   "cell_type": "markdown",
   "id": "4e0e22ed",
   "metadata": {},
   "source": [
    "### COUNT CATEGORY TRANSACTION"
   ]
  },
  {
   "cell_type": "code",
   "execution_count": 23,
   "id": "a60828d1",
   "metadata": {},
   "outputs": [
    {
     "name": "stdout",
     "output_type": "stream",
     "text": [
      "+--------------------+-------+\n",
      "|            category|  COUNT|\n",
      "+--------------------+-------+\n",
      "|Endüstriyel Malze...| 838645|\n",
      "|Profesyonel Hizme...|1298529|\n",
      "|Emlak Ofisleri ve...|1598586|\n",
      "|Çeşitli Gıda Mağa...| 439667|\n",
      "|Bilgisayar Yazılı...|1145818|\n",
      "|Gündelik Eşya Mağ...|1933755|\n",
      "|Kadın,Erkek Giyim...|1119318|\n",
      "+--------------------+-------+\n",
      "\n"
     ]
    }
   ],
   "source": [
    "spark.sql(\"\"\"\n",
    "    SELECT category, COUNT(category) AS COUNT FROM REVIEW \\\n",
    "    GROUP BY category\n",
    "\"\"\").show()"
   ]
  },
  {
   "cell_type": "markdown",
   "id": "312fd86b",
   "metadata": {},
   "source": [
    "### COUNT DAY OF TRANSACTION_DATE TRANSACTION"
   ]
  },
  {
   "cell_type": "code",
   "execution_count": 33,
   "id": "a2cd481c",
   "metadata": {},
   "outputs": [
    {
     "name": "stdout",
     "output_type": "stream",
     "text": [
      "+----------------+-----+\n",
      "|transaction_date|COUNT|\n",
      "+----------------+-----+\n",
      "|      2018-01-02| 3531|\n",
      "|      2018-01-03| 8077|\n",
      "|      2018-01-20| 3611|\n",
      "|      2018-01-22| 4184|\n",
      "|      2018-01-25| 3662|\n",
      "|      2018-01-28| 2427|\n",
      "|      2018-01-31| 4475|\n",
      "|      2018-02-01| 4487|\n",
      "|      2018-02-02| 4395|\n",
      "|      2018-02-04| 2831|\n",
      "+----------------+-----+\n",
      "only showing top 10 rows\n",
      "\n"
     ]
    }
   ],
   "source": [
    "spark.sql(\"\"\"\n",
    "    SELECT DATE(transaction_date), COUNT(*) AS COUNT FROM REVIEW \\\n",
    "    GROUP BY DATE(transaction_date)\n",
    "\"\"\").show(10)"
   ]
  },
  {
   "cell_type": "markdown",
   "id": "7a62fce6",
   "metadata": {},
   "source": [
    "### NUNIQUE DAY OF TRANSACTION_DATE"
   ]
  },
  {
   "cell_type": "code",
   "execution_count": 34,
   "id": "3607afbe",
   "metadata": {},
   "outputs": [
    {
     "name": "stdout",
     "output_type": "stream",
     "text": [
      "+-----------+\n",
      "|NUNIQUE_DAY|\n",
      "+-----------+\n",
      "|       1097|\n",
      "+-----------+\n",
      "\n"
     ]
    }
   ],
   "source": [
    "spark.sql(\"\"\"\n",
    "    SELECT COUNT(DISTINCT(DATE(transaction_date))) AS NUNIQUE_DAY FROM REVIEW\n",
    "\"\"\").show()"
   ]
  },
  {
   "cell_type": "markdown",
   "id": "f3dc8e8d",
   "metadata": {},
   "source": [
    "### ADD DAY OF TRANSACTION_DATE"
   ]
  },
  {
   "cell_type": "code",
   "execution_count": 35,
   "id": "4f31b66f",
   "metadata": {},
   "outputs": [],
   "source": [
    "df = df.withColumn(\"trans_day\", F.expr(\"DATE(transaction_date)\"))"
   ]
  },
  {
   "cell_type": "code",
   "execution_count": 36,
   "id": "1621a66f",
   "metadata": {},
   "outputs": [
    {
     "name": "stdout",
     "output_type": "stream",
     "text": [
      "+-----------+----------+-------+\n",
      "|merchant_id| trans_day|nunique|\n",
      "+-----------+----------+-------+\n",
      "|        535|2018-01-01|      1|\n",
      "|     124381|2018-01-03|      1|\n",
      "|     129316|2018-01-04|      1|\n",
      "|      46774|2018-01-05|      1|\n",
      "|      86302|2018-01-14|      1|\n",
      "|        535|2018-01-18|      1|\n",
      "|      86302|2018-01-18|      1|\n",
      "|        535|2018-01-19|      1|\n",
      "|      86302|2018-01-21|      1|\n",
      "|      57192|2018-01-24|      1|\n",
      "|     124381|2018-01-29|      1|\n",
      "|     124381|2018-01-30|      1|\n",
      "|     129316|2018-01-31|      1|\n",
      "|      86302|2018-02-02|      1|\n",
      "|      46774|2018-02-04|      1|\n",
      "|      57192|2018-02-05|      1|\n",
      "|      57192|2018-02-08|      1|\n",
      "|     124381|2018-02-09|      1|\n",
      "|     124381|2018-02-12|      1|\n",
      "|     124381|2018-02-14|      1|\n",
      "+-----------+----------+-------+\n",
      "only showing top 20 rows\n",
      "\n"
     ]
    }
   ],
   "source": [
    "df.groupBy(\"merchant_id\", \"trans_day\").agg(F.countDistinct(\"merchant_id\", \"trans_day\").alias(\"nunique\")).show()"
   ]
  },
  {
   "cell_type": "markdown",
   "id": "3b9d7fa0",
   "metadata": {},
   "source": [
    "## Create Cassandra Table with Spark"
   ]
  },
  {
   "cell_type": "code",
   "execution_count": 37,
   "id": "25128a41",
   "metadata": {},
   "outputs": [
    {
     "name": "stdout",
     "output_type": "stream",
     "text": [
      "+--------------+----------+\n",
      "|     info_name|info_value|\n",
      "+--------------+----------+\n",
      "|Namespace Name|    iyzico|\n",
      "+--------------+----------+\n",
      "\n"
     ]
    }
   ],
   "source": [
    "spark.sql(\"\"\"\n",
    "    DESCRIBE DATABASE docker3nodescluster.iyzico;\n",
    "\"\"\").show()"
   ]
  },
  {
   "cell_type": "code",
   "execution_count": 71,
   "id": "b4a62dd8",
   "metadata": {},
   "outputs": [
    {
     "data": {
      "text/plain": [
       "[('trans_day', 'date'),\n",
       " ('transaction_date', 'timestamp'),\n",
       " ('category', 'string'),\n",
       " ('merchant_id', 'int'),\n",
       " ('total_paid_price', 'double')]"
      ]
     },
     "execution_count": 71,
     "metadata": {},
     "output_type": "execute_result"
    }
   ],
   "source": [
    "df.dtypes"
   ]
  },
  {
   "cell_type": "code",
   "execution_count": 39,
   "id": "511f6cd3",
   "metadata": {},
   "outputs": [
    {
     "data": {
      "text/plain": [
       "DataFrame[]"
      ]
     },
     "execution_count": 39,
     "metadata": {},
     "output_type": "execute_result"
    }
   ],
   "source": [
    "spark.sql(\"\"\"\n",
    "    CREATE TABLE IF NOT EXISTS docker3nodescluster.iyzico.model\n",
    "    (transaction_date TIMESTAMP,\n",
    "    merchant_id INT,\n",
    "    category STRING,\n",
    "    total_paid_price DOUBLE,\n",
    "    trans_day DATE)\n",
    "        USING cassandra\n",
    "        PARTITIONED BY (trans_day)\n",
    "        TBLPROPERTIES (clustering_key='transaction_date.desc',\n",
    "                    compaction='{class=SizeTieredCompactionStrategy,bucket_high=1001}')\n",
    "\"\"\")"
   ]
  },
  {
   "cell_type": "code",
   "execution_count": 40,
   "id": "11a4d206",
   "metadata": {},
   "outputs": [],
   "source": [
    "cassandra = spark.read.table(\"docker3nodescluster.iyzico.model\")"
   ]
  },
  {
   "cell_type": "code",
   "execution_count": 47,
   "id": "cdeea8e6",
   "metadata": {},
   "outputs": [
    {
     "name": "stdout",
     "output_type": "stream",
     "text": [
      "+---------+----------------+--------+-----------+----------------+\n",
      "|trans_day|transaction_date|category|merchant_id|total_paid_price|\n",
      "+---------+----------------+--------+-----------+----------------+\n",
      "+---------+----------------+--------+-----------+----------------+\n",
      "\n"
     ]
    }
   ],
   "source": [
    "cassandra.show()"
   ]
  },
  {
   "cell_type": "code",
   "execution_count": 48,
   "id": "975c4285",
   "metadata": {},
   "outputs": [
    {
     "data": {
      "text/plain": [
       "[('trans_day', 'date'),\n",
       " ('transaction_date', 'timestamp'),\n",
       " ('category', 'string'),\n",
       " ('merchant_id', 'int'),\n",
       " ('total_paid_price', 'double')]"
      ]
     },
     "execution_count": 48,
     "metadata": {},
     "output_type": "execute_result"
    }
   ],
   "source": [
    "cassandra.dtypes"
   ]
  },
  {
   "cell_type": "code",
   "execution_count": 42,
   "id": "dce3727f",
   "metadata": {},
   "outputs": [],
   "source": [
    "df = df.select(*cassandra.columns)"
   ]
  },
  {
   "cell_type": "code",
   "execution_count": 43,
   "id": "c5a59911",
   "metadata": {},
   "outputs": [
    {
     "name": "stdout",
     "output_type": "stream",
     "text": [
      "+----------+--------------------+--------------------+-----------+----------------+\n",
      "| trans_day|    transaction_date|            category|merchant_id|total_paid_price|\n",
      "+----------+--------------------+--------------------+-----------+----------------+\n",
      "|2018-01-01|2018-01-01 00:01:...|Gündelik Eşya Mağ...|     124381|          485.91|\n",
      "|2018-01-01|2018-01-01 00:06:...|Profesyonel Hizme...|        535|            18.0|\n",
      "|2018-01-01|2018-01-01 00:19:...|Emlak Ofisleri ve...|      46774|         5191.83|\n",
      "|2018-01-01|2018-01-01 00:19:...|Emlak Ofisleri ve...|      46774|          862.92|\n",
      "|2018-01-01|2018-01-01 00:28:...|Gündelik Eşya Mağ...|     124381|         780.318|\n",
      "+----------+--------------------+--------------------+-----------+----------------+\n",
      "only showing top 5 rows\n",
      "\n"
     ]
    }
   ],
   "source": [
    "df.show(5)"
   ]
  },
  {
   "cell_type": "code",
   "execution_count": 51,
   "id": "523c3d68",
   "metadata": {},
   "outputs": [
    {
     "name": "stdout",
     "output_type": "stream",
     "text": [
      "Wall time: 4min 32s\n"
     ]
    }
   ],
   "source": [
    "%%time\n",
    "df.write.mode(\"append\") \\\n",
    "    .format(\"org.apache.spark.sql.cassandra\") \\\n",
    "    .saveAsTable(\"docker3nodescluster.iyzico.model\")"
   ]
  },
  {
   "cell_type": "markdown",
   "id": "75f96bbd",
   "metadata": {},
   "source": [
    "## Read Cassandra Table with Spark"
   ]
  },
  {
   "cell_type": "code",
   "execution_count": 52,
   "id": "312cba28",
   "metadata": {},
   "outputs": [],
   "source": [
    "cassandra = spark.read.table(\"docker3nodescluster.iyzico.model\")"
   ]
  },
  {
   "cell_type": "code",
   "execution_count": 53,
   "id": "ec27ca4c",
   "metadata": {},
   "outputs": [
    {
     "name": "stdout",
     "output_type": "stream",
     "text": [
      "+----------+-------------------+--------------------+-----------+----------------+\n",
      "| trans_day|   transaction_date|            category|merchant_id|total_paid_price|\n",
      "+----------+-------------------+--------------------+-----------+----------------+\n",
      "|2018-02-08|2018-02-08 23:57:21|Kadın,Erkek Giyim...|      42616|          323.91|\n",
      "|2018-02-08|2018-02-08 23:56:57|Bilgisayar Yazılı...|      57192|          64.188|\n",
      "|2018-02-08|2018-02-08 23:56:39|Gündelik Eşya Mağ...|     124381|         303.444|\n",
      "|2018-02-08|2018-02-08 23:55:50|Kadın,Erkek Giyim...|      42616|          143.82|\n",
      "|2018-02-08|2018-02-08 23:54:47|Bilgisayar Yazılı...|      57192|          47.628|\n",
      "+----------+-------------------+--------------------+-----------+----------------+\n",
      "only showing top 5 rows\n",
      "\n"
     ]
    }
   ],
   "source": [
    "cassandra.show(5)"
   ]
  },
  {
   "cell_type": "code",
   "execution_count": 69,
   "id": "be972bb1",
   "metadata": {},
   "outputs": [
    {
     "name": "stdout",
     "output_type": "stream",
     "text": [
      "Wall time: 9.95 s\n"
     ]
    },
    {
     "data": {
      "text/plain": [
       "3861"
      ]
     },
     "execution_count": 69,
     "metadata": {},
     "output_type": "execute_result"
    }
   ],
   "source": [
    "%%time\n",
    "cassandra.filter(\"trans_day='2018-01-17'\").count()"
   ]
  },
  {
   "cell_type": "code",
   "execution_count": 70,
   "id": "0c59148f",
   "metadata": {},
   "outputs": [
    {
     "name": "stdout",
     "output_type": "stream",
     "text": [
      "Wall time: 30.4 s\n"
     ]
    },
    {
     "data": {
      "text/plain": [
       "1060004"
      ]
     },
     "execution_count": 70,
     "metadata": {},
     "output_type": "execute_result"
    }
   ],
   "source": [
    "%%time\n",
    "cassandra.filter(\"category = 'Bilgisayar Yazılım Mağazaları'\").count()"
   ]
  },
  {
   "cell_type": "code",
   "execution_count": 72,
   "id": "2544aa0a",
   "metadata": {},
   "outputs": [],
   "source": [
    "spark.stop()"
   ]
  }
 ],
 "metadata": {
  "kernelspec": {
   "display_name": "Python 3 (Spyder)",
   "language": "python3",
   "name": "python3"
  },
  "language_info": {
   "codemirror_mode": {
    "name": "ipython",
    "version": 3
   },
   "file_extension": ".py",
   "mimetype": "text/x-python",
   "name": "python",
   "nbconvert_exporter": "python",
   "pygments_lexer": "ipython3",
   "version": "3.9.13"
  }
 },
 "nbformat": 4,
 "nbformat_minor": 5
}
